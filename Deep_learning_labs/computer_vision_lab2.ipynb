{
  "nbformat": 4,
  "nbformat_minor": 0,
  "metadata": {
    "colab": {
      "name": "computer_vision_lab2.ipynb",
      "provenance": [],
      "collapsed_sections": []
    },
    "kernelspec": {
      "name": "python3",
      "display_name": "Python 3"
    },
    "language_info": {
      "name": "python"
    },
    "accelerator": "GPU"
  },
  "cells": [
    {
      "cell_type": "markdown",
      "metadata": {
        "id": "mPf2yufekv0f"
      },
      "source": [
        "\n",
        "## Objective:\n",
        "\n",
        "We want to implement a Convolutional Neural Network (CNN) to do image super-resolution.\n",
        "\n",
        "## Image super-resolution:\n",
        "\n",
        "The super-resolution problem can be summarised as follows. We have an image as an input, which is defined over a grid $\\{0,1,\\dots, m-1\\} \\times \\{0,1,\\dots, n-1\\}$. We define a factor $\\delta$, by which we upsample the image. The output of the super-resolution is an image defined on the grid $\\{0,\\frac{1}{\\delta},\\dots, m-1\\} \\times \\{0,\\frac{1}{\\delta},\\dots, n-1\\}$.\n",
        "\n",
        "\n",
        "## Dataset\n",
        "\n",
        "We will be using the mnist dataset for this part.  The input data should be the subsampled version of the mnist images, subsampled by taking one out of every $\\delta$ pixels. The output data should be the normal-resolution mnist images.\n",
        "\n",
        "\n",
        "\n",
        "\n"
      ]
    },
    {
      "cell_type": "markdown",
      "source": [
        "We are aiming an accuracy of about  $80\\%$\n"
      ],
      "metadata": {
        "id": "ekCWpCVD9pfW"
      }
    },
    {
      "cell_type": "code",
      "metadata": {
        "id": "5utO2_UDyKs3",
        "colab": {
          "base_uri": "https://localhost:8080/"
        },
        "outputId": "30b10c30-5ba1-4a43-bd45-0ff94696356c"
      },
      "source": [
        "\n",
        "# # Load packages\n",
        "\n",
        "%matplotlib inline\n",
        "import matplotlib.pyplot as plt\n",
        "import numpy as np\n",
        "import cv2\n",
        "\n",
        "import tensorflow as tf\n",
        "from tensorflow.keras.utils import to_categorical\n",
        "\n",
        "from tensorflow.keras.models import Sequential, Model\n",
        "from tensorflow.keras.layers import Dense, Dropout, Activation, Flatten, Input\n",
        "from tensorflow.keras.layers import Conv2D, MaxPooling2D, UpSampling2D\n",
        "from tensorflow.keras import optimizers\n",
        "from scipy import interpolate\n",
        "print(tf.keras.__version__)"
      ],
      "execution_count": 1,
      "outputs": [
        {
          "output_type": "stream",
          "name": "stdout",
          "text": [
            "2.7.0\n"
          ]
        }
      ]
    },
    {
      "cell_type": "code",
      "metadata": {
        "id": "np3Dj3tuqEqn"
      },
      "source": [
        "# choice of the interpolation method\n",
        "interp_method = 'linear'\n",
        "# upsampling factor\n",
        "delta = 2\n",
        "# the maximum number of data to take from mnist (to go a bit faster)\n",
        "n_max = 5000\n",
        "\n",
        "# upsample by a factor of delta\n",
        "# by definition, the new grid has a step size of 1/delta\n",
        "def super_res_interpolate(imgs_in,delta,interp_method = 'linear'):\n",
        "\timgs_out = tf.image.resize( tf.constant(imgs_in),\\\n",
        "\t\t[delta*imgs_in.shape[1],delta*imgs_in.shape[2]], method='bilinear').numpy()\n",
        "\n",
        "\treturn(imgs_out)\n"
      ],
      "execution_count": 2,
      "outputs": []
    },
    {
      "cell_type": "markdown",
      "metadata": {
        "id": "11cgqqWiG6_4"
      },
      "source": [
        "# 1) Importing MNIST"
      ]
    },
    {
      "cell_type": "code",
      "metadata": {
        "id": "Hfx5BxeUqKf-",
        "colab": {
          "base_uri": "https://localhost:8080/"
        },
        "outputId": "e69964ec-c3cc-4aa8-fe09-8d6309244138"
      },
      "source": [
        "from keras.datasets import mnist\n",
        "from tensorflow.keras.layers import UpSampling2D\n",
        "Y_train, Y_test = mnist.load_data()\n",
        "\n",
        "Y_train= Y_train[0]\n",
        "Y_test = Y_test[0]\n",
        "\n",
        "Y_train = Y_train[0:n_max,:,:]\n",
        "Y_test = Y_test[0:n_max,:,:]\n",
        "\n",
        "\n",
        "print(Y_train.shape)\n",
        "print(Y_test.shape)\n",
        "\n",
        "img_rows, img_cols, nb_channels = Y_train.shape[1], Y_train.shape[2], 1\n",
        "\n",
        "# In case depth is 1 (black and white pictures) -> reshape to proper format\n",
        "Y_train = Y_train.reshape(Y_train.shape[0], img_rows, img_cols, nb_channels)\n",
        "Y_test = Y_test.reshape(Y_test.shape[0], img_rows, img_cols, nb_channels)\n",
        "\n",
        "Y_train = Y_train.astype('float32')\n",
        "Y_test = Y_test.astype('float32')\n",
        "Y_train /= 255\n",
        "Y_test /= 255\n",
        "\n",
        "print(Y_train.shape)\n",
        "print(Y_test.shape)"
      ],
      "execution_count": 3,
      "outputs": [
        {
          "output_type": "stream",
          "name": "stdout",
          "text": [
            "Downloading data from https://storage.googleapis.com/tensorflow/tf-keras-datasets/mnist.npz\n",
            "11493376/11490434 [==============================] - 0s 0us/step\n",
            "11501568/11490434 [==============================] - 0s 0us/step\n",
            "(5000, 28, 28)\n",
            "(5000, 28, 28)\n",
            "(5000, 28, 28, 1)\n",
            "(5000, 28, 28, 1)\n"
          ]
        }
      ]
    },
    {
      "cell_type": "markdown",
      "metadata": {
        "id": "uSdeWNuSHBsJ"
      },
      "source": [
        "### Function used to subsample images :\n",
        "\n",
        "\n"
      ]
    },
    {
      "cell_type": "code",
      "metadata": {
        "id": "tpuJfNrP8xb7"
      },
      "source": [
        "def sub_sampling_images(Y, delta):\n",
        "  X=[]\n",
        "\n",
        "  for img in Y:\n",
        "    h, w, c = img.shape\n",
        "    new_height = int(h / delta)\n",
        "    new_width = int(w / delta)\n",
        "            \n",
        "    # Resize down the image\n",
        "    img = cv2.resize(img, (new_width, new_height), interpolation=cv2.INTER_LINEAR)\n",
        "            \n",
        "\n",
        "    X.append(img)\n",
        "  \n",
        "  return np.array(X)\n",
        "\n"
      ],
      "execution_count": 4,
      "outputs": []
    },
    {
      "cell_type": "markdown",
      "metadata": {
        "id": "QkHzT-WFHzT2"
      },
      "source": [
        "### Building training data"
      ]
    },
    {
      "cell_type": "code",
      "metadata": {
        "colab": {
          "base_uri": "https://localhost:8080/"
        },
        "id": "Bhb7b9XnVusM",
        "outputId": "b13c1244-ae8b-4192-e2d9-6a59d74e38c3"
      },
      "source": [
        "X_train = sub_sampling_images(Y_train, delta)\n",
        "X_test = sub_sampling_images(Y_test, delta)\n",
        "\n",
        "img_rows, img_cols, nb_channels = X_train.shape[1], X_train.shape[2], 1\n",
        "\n",
        "# In case depth is 1 (black and white pictures) -> reshape to proper format\n",
        "X_train = X_train.reshape(X_train.shape[0], img_rows, img_cols, nb_channels)\n",
        "X_test = X_test.reshape(X_test.shape[0], img_rows, img_cols, nb_channels)\n",
        "\n",
        "print(X_train.shape)"
      ],
      "execution_count": 5,
      "outputs": [
        {
          "output_type": "stream",
          "name": "stdout",
          "text": [
            "(5000, 14, 14, 1)\n"
          ]
        }
      ]
    },
    {
      "cell_type": "markdown",
      "metadata": {
        "id": "-b-S-Mt7H4uW"
      },
      "source": [
        "### Visualization"
      ]
    },
    {
      "cell_type": "code",
      "metadata": {
        "colab": {
          "base_uri": "https://localhost:8080/",
          "height": 336
        },
        "id": "TkyytATyya2M",
        "outputId": "0a905e98-dce6-465d-fb3a-509ba010c7af"
      },
      "source": [
        "fig = plt.figure(figsize=(10, 10))\n",
        "rows = 1\n",
        "columns = 2\n",
        "\n",
        "fig.add_subplot(rows, columns,1)\n",
        "plt.imshow(X_train[10].reshape(14,14),cmap='gray')\n",
        "plt.title(\"Subsampled image\")\n",
        "\n",
        "fig.add_subplot(rows, columns,2)\n",
        "plt.imshow(Y_train[10].reshape(28,28),cmap='gray')\n",
        "plt.title(\"Original image\")"
      ],
      "execution_count": 6,
      "outputs": [
        {
          "output_type": "execute_result",
          "data": {
            "text/plain": [
              "Text(0.5, 1.0, 'Original image')"
            ]
          },
          "metadata": {},
          "execution_count": 6
        },
        {
          "output_type": "display_data",
          "data": {
            "image/png": "[encoded data removed]",
            "text/plain": [
              "<Figure size 720x720 with 2 Axes>"
            ]
          },
          "metadata": {
            "needs_background": "light"
          }
        }
      ]
    },
    {
      "cell_type": "markdown",
      "metadata": {
        "id": "xyWM8ELJIFIh"
      },
      "source": [
        "# 2) Creating the model "
      ]
    },
    {
      "cell_type": "code",
      "metadata": {
        "id": "wcoFeThj-g3U",
        "colab": {
          "base_uri": "https://localhost:8080/"
        },
        "outputId": "2b8515d2-0fd4-4f4e-fa5e-1f7cf042fd55"
      },
      "source": [
        "model = Sequential()\n",
        "model.add(Input(shape=(14,14,1)))\n",
        "model.add(UpSampling2D(delta))\n",
        "model.add(Conv2D(filters=128, kernel_size=(9, 9), padding='same',input_shape=(28,28,1),strides=(1, 1),name=\"Conv1\"))\n",
        "model.add(Activation(\"relu\"))\n",
        "model.add(Conv2D(filters=64, kernel_size=(3,3),input_shape=(28,28,1),padding=\"same\",strides=(1, 1),name=\"Conv2\"))\n",
        "model.add(Activation(\"relu\"))\n",
        "model.add(Conv2D(1, kernel_size=(5,5),input_shape=(28,28,1),padding=\"same\",strides=(1, 1), name=\"Conv3\"))\n",
        "model.add(Activation(\"linear\"))\n",
        "\n",
        "model.compile(optimizer=\"adam\", loss='mean_squared_error', metrics=['accuracy'])\n",
        "model.summary()"
      ],
      "execution_count": 7,
      "outputs": [
        {
          "output_type": "stream",
          "name": "stdout",
          "text": [
            "Model: \"sequential\"\n",
            "_________________________________________________________________\n",
            " Layer (type)                Output Shape              Param #   \n",
            "=================================================================\n",
            " up_sampling2d (UpSampling2D  (None, 28, 28, 1)        0         \n",
            " )                                                               \n",
            "                                                                 \n",
            " Conv1 (Conv2D)              (None, 28, 28, 128)       10496     \n",
            "                                                                 \n",
            " activation (Activation)     (None, 28, 28, 128)       0         \n",
            "                                                                 \n",
            " Conv2 (Conv2D)              (None, 28, 28, 64)        73792     \n",
            "                                                                 \n",
            " activation_1 (Activation)   (None, 28, 28, 64)        0         \n",
            "                                                                 \n",
            " Conv3 (Conv2D)              (None, 28, 28, 1)         1601      \n",
            "                                                                 \n",
            " activation_2 (Activation)   (None, 28, 28, 1)         0         \n",
            "                                                                 \n",
            "=================================================================\n",
            "Total params: 85,889\n",
            "Trainable params: 85,889\n",
            "Non-trainable params: 0\n",
            "_________________________________________________________________\n"
          ]
        }
      ]
    },
    {
      "cell_type": "markdown",
      "metadata": {
        "id": "BDwojk6CITY-"
      },
      "source": [
        "# 3) Training the model"
      ]
    },
    {
      "cell_type": "code",
      "metadata": {
        "colab": {
          "base_uri": "https://localhost:8080/"
        },
        "id": "ykfdPNuHDyCf",
        "outputId": "e8fb8b70-7c36-4d9a-d0fb-0a11b5f910f9"
      },
      "source": [
        "model.fit(X_train,Y_train,epochs=10,batch_size=64)"
      ],
      "execution_count": 8,
      "outputs": [
        {
          "output_type": "stream",
          "name": "stdout",
          "text": [
            "Epoch 1/10\n",
            "79/79 [==============================] - 16s 11ms/step - loss: 0.0129 - accuracy: 0.8139\n",
            "Epoch 2/10\n",
            "79/79 [==============================] - 1s 9ms/step - loss: 0.0046 - accuracy: 0.8154\n",
            "Epoch 3/10\n",
            "79/79 [==============================] - 1s 9ms/step - loss: 0.0034 - accuracy: 0.8154\n",
            "Epoch 4/10\n",
            "79/79 [==============================] - 1s 9ms/step - loss: 0.0029 - accuracy: 0.8154\n",
            "Epoch 5/10\n",
            "79/79 [==============================] - 1s 9ms/step - loss: 0.0025 - accuracy: 0.8154\n",
            "Epoch 6/10\n",
            "79/79 [==============================] - 1s 9ms/step - loss: 0.0023 - accuracy: 0.8154\n",
            "Epoch 7/10\n",
            "79/79 [==============================] - 1s 9ms/step - loss: 0.0022 - accuracy: 0.8154\n",
            "Epoch 8/10\n",
            "79/79 [==============================] - 1s 9ms/step - loss: 0.0021 - accuracy: 0.8154\n",
            "Epoch 9/10\n",
            "79/79 [==============================] - 1s 9ms/step - loss: 0.0020 - accuracy: 0.8154\n",
            "Epoch 10/10\n",
            "79/79 [==============================] - 1s 10ms/step - loss: 0.0020 - accuracy: 0.8154\n"
          ]
        },
        {
          "output_type": "execute_result",
          "data": {
            "text/plain": [
              "<keras.callbacks.History at 0x7f22703fe850>"
            ]
          },
          "metadata": {},
          "execution_count": 8
        }
      ]
    },
    {
      "cell_type": "markdown",
      "metadata": {
        "id": "hTWvW0DFIbUR"
      },
      "source": [
        "### Prediction on test data"
      ]
    },
    {
      "cell_type": "code",
      "metadata": {
        "id": "siFkO-4EOcsy"
      },
      "source": [
        "y_hat = model.predict(X_test)"
      ],
      "execution_count": 9,
      "outputs": []
    },
    {
      "cell_type": "markdown",
      "metadata": {
        "id": "REDMkduCIgcu"
      },
      "source": [
        "### Accuracy"
      ]
    },
    {
      "cell_type": "code",
      "metadata": {
        "colab": {
          "base_uri": "https://localhost:8080/"
        },
        "id": "5ZOsklOKGOpW",
        "outputId": "5f581101-4ce5-46e4-a3f7-0d76731cd5fd"
      },
      "source": [
        "\n",
        "print(\"Accuracy = \"+str(model.evaluate(X_test,Y_test)[1]))\n"
      ],
      "execution_count": 10,
      "outputs": [
        {
          "output_type": "stream",
          "name": "stdout",
          "text": [
            "157/157 [==============================] - 1s 3ms/step - loss: 0.0020 - accuracy: 0.8242\n",
            "Accuracy = 0.8241921067237854\n"
          ]
        }
      ]
    },
    {
      "cell_type": "markdown",
      "metadata": {
        "id": "XkXEaIguHpku"
      },
      "source": [
        "# Visualization"
      ]
    },
    {
      "cell_type": "code",
      "metadata": {
        "colab": {
          "base_uri": "https://localhost:8080/",
          "height": 246
        },
        "id": "IiLYEgh9E712",
        "outputId": "94aa9d1e-9f25-4215-cab1-2ddf2623fb22"
      },
      "source": [
        "y_hat = model.predict(X_test)\n",
        "\n",
        "fig = plt.figure(figsize=(10, 10))\n",
        "rows = 1\n",
        "columns = 3\n",
        "\n",
        "fig.add_subplot(rows, columns,1)\n",
        "plt.imshow(y_hat[107].reshape(28,28),cmap='gray')\n",
        "plt.title(\"predicted image\")\n",
        "\n",
        "fig.add_subplot(rows, columns,2)\n",
        "plt.imshow(Y_test[107].reshape(28,28),cmap='gray')\n",
        "plt.title(\"Original image\")\n",
        "\n",
        "fig.add_subplot(rows, columns,3)\n",
        "plt.imshow(X_test[107].reshape(14,14),cmap='gray')\n",
        "plt.title(\"sub image\")"
      ],
      "execution_count": 11,
      "outputs": [
        {
          "output_type": "execute_result",
          "data": {
            "text/plain": [
              "Text(0.5, 1.0, 'sub image')"
            ]
          },
          "metadata": {},
          "execution_count": 11
        },
        {
          "output_type": "display_data",
          "data": {
            "image/png": "[encoded data removed]",
            "text/plain": [
              "<Figure size 720x720 with 3 Axes>"
            ]
          },
          "metadata": {
            "needs_background": "light"
          }
        }
      ]
    }
  ]
}