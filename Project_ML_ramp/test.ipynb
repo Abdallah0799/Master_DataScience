{
 "cells": [
  {
   "cell_type": "code",
   "execution_count": 1,
   "metadata": {},
   "outputs": [],
   "source": [
    "from rampwf.workflows import FeatureExtractor\n",
    "from sklearn.compose import ColumnTransformer\n",
    "from sklearn.feature_extraction.text import CountVectorizer\n",
    "import pandas as pd\n",
    "from sklearn.pipeline import make_pipeline\n",
    "from sklearn.pipeline import Pipeline\n",
    "from sklearn.preprocessing import FunctionTransformer\n",
    "from sklearn.impute import SimpleImputer\n",
    "from process_data import prep_medium\n",
    "import numpy as np\n",
    "\n",
    "\n",
    "def medium_extraction(X):\n",
    "    val_medium = X['Medium'].values\n",
    "    Medium = []\n",
    "    sep = \",\"\n",
    "\n",
    "    vectorizer = CountVectorizer(stop_words=\"english\", max_features=24)\n",
    "    vectorizer.fit(val_medium)\n",
    "    vectorized_input = vectorizer.transform(val_medium)\n",
    "    inv_transform = vectorizer.inverse_transform(vectorized_input)\n",
    "            \n",
    "    for arr in inv_transform:\n",
    "        arr = list(arr)\n",
    "        arr = sorted(arr)\n",
    "        arr = sep.join(arr)\n",
    "        Medium.append(arr)\n",
    "            \n",
    "    X['Medium'] = Medium\n",
    "    X[X['Medium']==\"\"]=pd.NA\n",
    "    \n",
    "    return X['Medium']\n",
    "\n",
    "def mean_target_encoding_classif(df):\n",
    "    y_ = np.array(y)\n",
    "    map_period = {\"Contemporary Era\":1., \"Modern Times\": 2., \"Middle Ages\":3., \"Antiquity\":4.}\n",
    "    df[\"num_period\"] = [map_period[period] for period in y_]\n",
    "    tmp_classif = df.groupby([\"Classification\"]).describe()\n",
    "    map_classif = {classif_cat: classif_num for (classif_cat, classif_num) in zip(tmp_classif.index, tmp_classif[('num_period', 'mean')])}\n",
    "            \n",
    "    Classification =  [map_classif[m] for m in df[\"Classification\"]]\n",
    "    \n",
    "    return np.array(Classification).reshape(-1, 1)\n",
    "        \n",
    "def mean_target_encoding_medium(df):\n",
    "    y_ = np.array(y)\n",
    "    map_period = {\"Contemporary Era\":1., \"Modern Times\": 2., \"Middle Ages\":3., \"Antiquity\":4.}\n",
    "    df[\"num_period\"] = [map_period[period] for period in y_]\n",
    "    tmp_medium = df.groupby([\"Medium\"]).describe()\n",
    "    map_medium = {medium_cat: medium_num for (medium_cat, medium_num) in zip(tmp_medium.index, tmp_medium[('num_period', 'mean')])}\n",
    "            \n",
    "    Medium = [map_medium[m] for m in df[\"Medium\"]]\n",
    "    return np.array(Medium).reshape(-1,1)\n",
    "        \n",
    "def mean_target_encoding_culture(df):\n",
    "    y_ = np.array(y)\n",
    "    map_period = {\"Contemporary Era\":1., \"Modern Times\": 2., \"Middle Ages\":3., \"Antiquity\":4.}\n",
    "    df[\"num_period\"] = [map_period[period] for period in y_]\n",
    "    tmp_culture = df.groupby([\"Culture\"]).describe()\n",
    "    map_culture = {culture_cat: culture_num for (culture_cat, culture_num) in zip(tmp_culture.index, tmp_culture[('num_period', 'mean')])}\n",
    "            \n",
    "    Culture = [map_culture[m] for m in df[\"Culture\"]]     \n",
    "    return np.array(Culture).reshape(-1, 1)\n",
    "\n",
    "medium_extraction_transformer = FunctionTransformer(medium_extraction, validate=False)\n",
    "MTE_classif = FunctionTransformer(mean_target_encoding_classif, validate=False)\n",
    "MTE_medium = FunctionTransformer(mean_target_encoding_medium, validate=False)\n",
    "MTE_culture =  FunctionTransformer(mean_target_encoding_culture, validate=False) \n",
    "        \n",
    "preprocessor = ColumnTransformer(\n",
    "            transformers=[\n",
    "                ('medium_extrac', make_pipeline(MTE_medium, SimpleImputer(strategy = 'constant', fill_value = -1)), ['Medium']),\n",
    "                ('mte_classif', MTE_classif, ['Classification']),\n",
    "                ('mte_culture', MTE_culture,  ['Culture'])\n",
    "            ])\n"
   ]
  },
  {
   "cell_type": "code",
   "execution_count": 23,
   "metadata": {},
   "outputs": [],
   "source": [
    "X = pd.read_csv(\"data/museum_data.csv\")"
   ]
  },
  {
   "cell_type": "code",
   "execution_count": 24,
   "metadata": {},
   "outputs": [
    {
     "data": {
      "text/plain": [
       "Index(['Unnamed: 0', 'Medium', 'Classification', 'Culture',\n",
       "       'Object Begin Date', 'Historical Period', 'height', 'diam', 'width',\n",
       "       'depth'],\n",
       "      dtype='object')"
      ]
     },
     "execution_count": 24,
     "metadata": {},
     "output_type": "execute_result"
    }
   ],
   "source": [
    "X.columns"
   ]
  },
  {
   "cell_type": "code",
   "execution_count": 25,
   "metadata": {},
   "outputs": [],
   "source": [
    "y = X['Historical Period']"
   ]
  },
  {
   "cell_type": "code",
   "execution_count": 26,
   "metadata": {},
   "outputs": [],
   "source": [
    "X = X[['Classification', 'Culture', 'height', 'diam', 'width', 'depth']]"
   ]
  },
  {
   "cell_type": "code",
   "execution_count": 27,
   "metadata": {},
   "outputs": [
    {
     "data": {
      "text/plain": [
       "(106699, 6)"
      ]
     },
     "execution_count": 27,
     "metadata": {},
     "output_type": "execute_result"
    }
   ],
   "source": [
    "X.shape"
   ]
  },
  {
   "cell_type": "code",
   "execution_count": 28,
   "metadata": {},
   "outputs": [],
   "source": [
    "rr = pd.read_csv(\"data/museum_data.csv\")"
   ]
  },
  {
   "cell_type": "code",
   "execution_count": 29,
   "metadata": {},
   "outputs": [],
   "source": [
    "rr = rr.dropna(axis=0, subset=['Medium'])"
   ]
  },
  {
   "cell_type": "code",
   "execution_count": 30,
   "metadata": {},
   "outputs": [],
   "source": [
    "X['Medium'] = rr['Medium'].values[:106699]"
   ]
  },
  {
   "cell_type": "code",
   "execution_count": 31,
   "metadata": {},
   "outputs": [
    {
     "name": "stdout",
     "output_type": "stream",
     "text": [
      "<class 'pandas.core.frame.DataFrame'>\n",
      "RangeIndex: 106699 entries, 0 to 106698\n",
      "Data columns (total 7 columns):\n",
      " #   Column          Non-Null Count   Dtype  \n",
      "---  ------          --------------   -----  \n",
      " 0   Classification  106699 non-null  object \n",
      " 1   Culture         106699 non-null  object \n",
      " 2   height          106699 non-null  float64\n",
      " 3   diam            106699 non-null  float64\n",
      " 4   width           106699 non-null  float64\n",
      " 5   depth           106699 non-null  float64\n",
      " 6   Medium          106699 non-null  object \n",
      "dtypes: float64(4), object(3)\n",
      "memory usage: 5.7+ MB\n"
     ]
    }
   ],
   "source": [
    "X.info()"
   ]
  },
  {
   "cell_type": "code",
   "execution_count": 32,
   "metadata": {},
   "outputs": [
    {
     "data": {
      "text/plain": [
       "ColumnTransformer(transformers=[('medium_extrac',\n",
       "                                 Pipeline(steps=[('functiontransformer',\n",
       "                                                  FunctionTransformer(func=<function mean_target_encoding_medium at 0x000001F6017DCAF0>)),\n",
       "                                                 ('simpleimputer',\n",
       "                                                  SimpleImputer(fill_value=-1,\n",
       "                                                                strategy='constant'))]),\n",
       "                                 ['Medium']),\n",
       "                                ('mte_classif',\n",
       "                                 FunctionTransformer(func=<function mean_target_encoding_classif at 0x000001F6017DCB80>),\n",
       "                                 ['Classification']),\n",
       "                                ('mte_culture',\n",
       "                                 FunctionTransformer(func=<function mean_target_encoding_culture at 0x000001F6017DCC10>),\n",
       "                                 ['Culture'])])"
      ]
     },
     "execution_count": 32,
     "metadata": {},
     "output_type": "execute_result"
    }
   ],
   "source": [
    "X['Medium'] = medium_extraction(X)\n",
    "preprocessor.fit(X, y)"
   ]
  },
  {
   "cell_type": "code",
   "execution_count": 33,
   "metadata": {},
   "outputs": [],
   "source": [
    "prep_class_cult = preprocessor.fit_transform(X)"
   ]
  },
  {
   "cell_type": "code",
   "execution_count": 34,
   "metadata": {},
   "outputs": [],
   "source": [
    "med = prep_class_cult[:,0]\n",
    "X['Medium'] = med"
   ]
  },
  {
   "cell_type": "code",
   "execution_count": 35,
   "metadata": {},
   "outputs": [
    {
     "name": "stdout",
     "output_type": "stream",
     "text": [
      "<class 'pandas.core.frame.DataFrame'>\n",
      "RangeIndex: 106699 entries, 0 to 106698\n",
      "Data columns (total 1 columns):\n",
      " #   Column  Non-Null Count   Dtype  \n",
      "---  ------  --------------   -----  \n",
      " 0   Medium  106699 non-null  float64\n",
      "dtypes: float64(1)\n",
      "memory usage: 833.7 KB\n"
     ]
    }
   ],
   "source": [
    "X[['Medium']].info()"
   ]
  },
  {
   "cell_type": "code",
   "execution_count": 36,
   "metadata": {},
   "outputs": [],
   "source": [
    "X[['Medium','Classification', 'Culture']]= prep_class_cult "
   ]
  },
  {
   "cell_type": "code",
   "execution_count": 37,
   "metadata": {},
   "outputs": [
    {
     "data": {
      "text/plain": [
       "Classification    107\n",
       "Culture           232\n",
       "dtype: int64"
      ]
     },
     "execution_count": 37,
     "metadata": {},
     "output_type": "execute_result"
    }
   ],
   "source": [
    "X[['Classification', 'Culture']].nunique()"
   ]
  },
  {
   "cell_type": "code",
   "execution_count": 38,
   "metadata": {},
   "outputs": [
    {
     "data": {
      "text/html": [
       "<div>\n",
       "<style scoped>\n",
       "    .dataframe tbody tr th:only-of-type {\n",
       "        vertical-align: middle;\n",
       "    }\n",
       "\n",
       "    .dataframe tbody tr th {\n",
       "        vertical-align: top;\n",
       "    }\n",
       "\n",
       "    .dataframe thead th {\n",
       "        text-align: right;\n",
       "    }\n",
       "</style>\n",
       "<table border=\"1\" class=\"dataframe\">\n",
       "  <thead>\n",
       "    <tr style=\"text-align: right;\">\n",
       "      <th></th>\n",
       "      <th>Classification</th>\n",
       "      <th>Culture</th>\n",
       "      <th>height</th>\n",
       "      <th>diam</th>\n",
       "      <th>width</th>\n",
       "      <th>depth</th>\n",
       "      <th>Medium</th>\n",
       "    </tr>\n",
       "  </thead>\n",
       "  <tbody>\n",
       "    <tr>\n",
       "      <th>0</th>\n",
       "      <td>1.966078</td>\n",
       "      <td>1.656506</td>\n",
       "      <td>296.5</td>\n",
       "      <td>-1.0</td>\n",
       "      <td>261.6</td>\n",
       "      <td>-1.0</td>\n",
       "      <td>1.854215</td>\n",
       "    </tr>\n",
       "    <tr>\n",
       "      <th>1</th>\n",
       "      <td>2.295775</td>\n",
       "      <td>2.000000</td>\n",
       "      <td>12.07</td>\n",
       "      <td>-1.0</td>\n",
       "      <td>11.43</td>\n",
       "      <td>-1.0</td>\n",
       "      <td>2.927883</td>\n",
       "    </tr>\n",
       "    <tr>\n",
       "      <th>2</th>\n",
       "      <td>1.981467</td>\n",
       "      <td>1.871935</td>\n",
       "      <td>-1.0</td>\n",
       "      <td>-1.0</td>\n",
       "      <td>-1.0</td>\n",
       "      <td>105.5</td>\n",
       "      <td>1.666667</td>\n",
       "    </tr>\n",
       "    <tr>\n",
       "      <th>3</th>\n",
       "      <td>2.295775</td>\n",
       "      <td>1.886682</td>\n",
       "      <td>-1.0</td>\n",
       "      <td>-1.0</td>\n",
       "      <td>-1.0</td>\n",
       "      <td>14.5</td>\n",
       "      <td>1.914692</td>\n",
       "    </tr>\n",
       "    <tr>\n",
       "      <th>4</th>\n",
       "      <td>1.848797</td>\n",
       "      <td>1.871935</td>\n",
       "      <td>-1.0</td>\n",
       "      <td>8.3</td>\n",
       "      <td>-1.0</td>\n",
       "      <td>-1.0</td>\n",
       "      <td>2.166667</td>\n",
       "    </tr>\n",
       "    <tr>\n",
       "      <th>...</th>\n",
       "      <td>...</td>\n",
       "      <td>...</td>\n",
       "      <td>...</td>\n",
       "      <td>...</td>\n",
       "      <td>...</td>\n",
       "      <td>...</td>\n",
       "      <td>...</td>\n",
       "    </tr>\n",
       "    <tr>\n",
       "      <th>106694</th>\n",
       "      <td>1.000000</td>\n",
       "      <td>1.871935</td>\n",
       "      <td>22.8</td>\n",
       "      <td>-1.0</td>\n",
       "      <td>30.5</td>\n",
       "      <td>39.4</td>\n",
       "      <td>1.702391</td>\n",
       "    </tr>\n",
       "    <tr>\n",
       "      <th>106695</th>\n",
       "      <td>3.999804</td>\n",
       "      <td>3.997108</td>\n",
       "      <td>6.7</td>\n",
       "      <td>-1.0</td>\n",
       "      <td>3.8</td>\n",
       "      <td>9.5</td>\n",
       "      <td>3.875496</td>\n",
       "    </tr>\n",
       "    <tr>\n",
       "      <th>106696</th>\n",
       "      <td>2.392888</td>\n",
       "      <td>1.843485</td>\n",
       "      <td>-1.0</td>\n",
       "      <td>68.5</td>\n",
       "      <td>-1.0</td>\n",
       "      <td>-1.0</td>\n",
       "      <td>3.046062</td>\n",
       "    </tr>\n",
       "    <tr>\n",
       "      <th>106697</th>\n",
       "      <td>3.999804</td>\n",
       "      <td>3.997108</td>\n",
       "      <td>11.4</td>\n",
       "      <td>-1.0</td>\n",
       "      <td>7.0</td>\n",
       "      <td>15.9</td>\n",
       "      <td>3.875496</td>\n",
       "    </tr>\n",
       "    <tr>\n",
       "      <th>106698</th>\n",
       "      <td>3.999804</td>\n",
       "      <td>4.000000</td>\n",
       "      <td>19.1</td>\n",
       "      <td>-1.0</td>\n",
       "      <td>14.0</td>\n",
       "      <td>-1.0</td>\n",
       "      <td>3.875496</td>\n",
       "    </tr>\n",
       "  </tbody>\n",
       "</table>\n",
       "<p>106699 rows × 7 columns</p>\n",
       "</div>"
      ],
      "text/plain": [
       "        Classification   Culture height  diam  width  depth    Medium\n",
       "0             1.966078  1.656506  296.5  -1.0  261.6   -1.0  1.854215\n",
       "1             2.295775  2.000000  12.07  -1.0  11.43   -1.0  2.927883\n",
       "2             1.981467  1.871935   -1.0  -1.0   -1.0  105.5  1.666667\n",
       "3             2.295775  1.886682   -1.0  -1.0   -1.0   14.5  1.914692\n",
       "4             1.848797  1.871935   -1.0   8.3   -1.0   -1.0  2.166667\n",
       "...                ...       ...    ...   ...    ...    ...       ...\n",
       "106694        1.000000  1.871935   22.8  -1.0   30.5   39.4  1.702391\n",
       "106695        3.999804  3.997108    6.7  -1.0    3.8    9.5  3.875496\n",
       "106696        2.392888  1.843485   -1.0  68.5   -1.0   -1.0  3.046062\n",
       "106697        3.999804  3.997108   11.4  -1.0    7.0   15.9  3.875496\n",
       "106698        3.999804  4.000000   19.1  -1.0   14.0   -1.0  3.875496\n",
       "\n",
       "[106699 rows x 7 columns]"
      ]
     },
     "execution_count": 38,
     "metadata": {},
     "output_type": "execute_result"
    }
   ],
   "source": [
    "X"
   ]
  },
  {
   "cell_type": "code",
   "execution_count": 39,
   "metadata": {},
   "outputs": [
    {
     "data": {
      "text/plain": [
       "0             Modern Times\n",
       "1             Modern Times\n",
       "2         Contemporary Era\n",
       "3             Modern Times\n",
       "4             Modern Times\n",
       "                ...       \n",
       "106694    Contemporary Era\n",
       "106695           Antiquity\n",
       "106696    Contemporary Era\n",
       "106697           Antiquity\n",
       "106698           Antiquity\n",
       "Name: Historical Period, Length: 106699, dtype: object"
      ]
     },
     "execution_count": 39,
     "metadata": {},
     "output_type": "execute_result"
    }
   ],
   "source": [
    "y"
   ]
  },
  {
   "cell_type": "code",
   "execution_count": 40,
   "metadata": {},
   "outputs": [
    {
     "data": {
      "text/plain": [
       "array([[1.9660783101003854, 1.656506447831184, 296.5, ..., 261.6, -1.0,\n",
       "        1.854214876033058],\n",
       "       [2.295774647887324, 2.0, 12.07, ..., 11.43, -1.0,\n",
       "        2.9278826838087584],\n",
       "       [1.9814665592264302, 1.8719351188230857, -1.0, ..., -1.0, 105.5,\n",
       "        1.6666666666666667],\n",
       "       ...,\n",
       "       [2.3928881179531656, 1.8434845472618833, -1.0, ..., -1.0, -1.0,\n",
       "        3.046061515378845],\n",
       "       [3.9998039600078417, 3.99710843373494, 11.4, ..., 7.0, 15.9,\n",
       "        3.8754961630060865],\n",
       "       [3.9998039600078417, 4.0, 19.1, ..., 14.0, -1.0,\n",
       "        3.8754961630060865]], dtype=object)"
      ]
     },
     "execution_count": 40,
     "metadata": {},
     "output_type": "execute_result"
    }
   ],
   "source": [
    "X.values"
   ]
  },
  {
   "cell_type": "code",
   "execution_count": 41,
   "metadata": {},
   "outputs": [
    {
     "name": "stdout",
     "output_type": "stream",
     "text": [
      "Requirement already satisfied: ramp-workflow in c:\\users\\abdallah\\anaconda3\\lib\\site-packages (0.4.0)Note: you may need to restart the kernel to use updated packages.\n",
      "\n",
      "Requirement already satisfied: scipy in c:\\users\\abdallah\\anaconda3\\lib\\site-packages (from ramp-workflow) (1.7.1)\n",
      "Requirement already satisfied: numpy in c:\\users\\abdallah\\anaconda3\\lib\\site-packages (from ramp-workflow) (1.22.1)\n",
      "Requirement already satisfied: joblib in c:\\users\\abdallah\\anaconda3\\lib\\site-packages (from ramp-workflow) (1.1.0)\n",
      "Requirement already satisfied: cloudpickle in c:\\users\\abdallah\\anaconda3\\lib\\site-packages (from ramp-workflow) (2.0.0)\n",
      "Requirement already satisfied: click in c:\\users\\abdallah\\anaconda3\\lib\\site-packages (from ramp-workflow) (8.0.3)\n",
      "Requirement already satisfied: pandas in c:\\users\\abdallah\\anaconda3\\lib\\site-packages (from ramp-workflow) (1.3.4)\n",
      "Requirement already satisfied: scikit-learn>=0.22 in c:\\users\\abdallah\\anaconda3\\lib\\site-packages (from ramp-workflow) (0.24.2)\n",
      "Requirement already satisfied: threadpoolctl>=2.0.0 in c:\\users\\abdallah\\anaconda3\\lib\\site-packages (from scikit-learn>=0.22->ramp-workflow) (2.2.0)\n",
      "Requirement already satisfied: colorama in c:\\users\\abdallah\\anaconda3\\lib\\site-packages (from click->ramp-workflow) (0.4.4)\n",
      "Requirement already satisfied: python-dateutil>=2.7.3 in c:\\users\\abdallah\\anaconda3\\lib\\site-packages (from pandas->ramp-workflow) (2.8.2)\n",
      "Requirement already satisfied: pytz>=2017.3 in c:\\users\\abdallah\\anaconda3\\lib\\site-packages (from pandas->ramp-workflow) (2021.3)\n",
      "Requirement already satisfied: six>=1.5 in c:\\users\\abdallah\\anaconda3\\lib\\site-packages (from python-dateutil>=2.7.3->pandas->ramp-workflow) (1.16.0)\n"
     ]
    }
   ],
   "source": [
    "pip install ramp-workflow"
   ]
  },
  {
   "cell_type": "code",
   "execution_count": 2,
   "metadata": {},
   "outputs": [],
   "source": [
    "a = pd.read_csv(\"data/museum_data_train.csv\")"
   ]
  },
  {
   "cell_type": "code",
   "execution_count": 3,
   "metadata": {},
   "outputs": [
    {
     "name": "stdout",
     "output_type": "stream",
     "text": [
      "<class 'pandas.core.frame.DataFrame'>\n",
      "RangeIndex: 40180 entries, 0 to 40179\n",
      "Data columns (total 1 columns):\n",
      " #   Column  Non-Null Count  Dtype \n",
      "---  ------  --------------  ----- \n",
      " 0   Medium  40180 non-null  object\n",
      "dtypes: object(1)\n",
      "memory usage: 314.0+ KB\n"
     ]
    }
   ],
   "source": [
    "a[['Medium']].info()"
   ]
  }
 ],
 "metadata": {
  "interpreter": {
   "hash": "1cd6ffca5e521af8bbdd956d6a5cf6cc8723ce1db8022e82c08350eeea14129b"
  },
  "kernelspec": {
   "display_name": "Python 3.9.7 ('base')",
   "language": "python",
   "name": "python3"
  },
  "language_info": {
   "codemirror_mode": {
    "name": "ipython",
    "version": 3
   },
   "file_extension": ".py",
   "mimetype": "text/x-python",
   "name": "python",
   "nbconvert_exporter": "python",
   "pygments_lexer": "ipython3",
   "version": "3.9.7"
  },
  "orig_nbformat": 4
 },
 "nbformat": 4,
 "nbformat_minor": 2
}
