{
 "cells": [
  {
   "cell_type": "markdown",
   "metadata": {},
   "source": [
    "Cette partie est principalement composée de configuration afin de recuperer les tweets. Nous nous sommes inspirés du code de ce lien : https://github.com/jleetutorial/python-spark-streaming/blob/master/1_start/TweetRead.ipynb"
   ]
  },
  {
   "cell_type": "code",
   "execution_count": 1,
   "metadata": {},
   "outputs": [],
   "source": [
    "import tweepy\n",
    "from tweepy.auth import OAuthHandler\n",
    "from tweepy import Stream\n",
    "from tweepy.streaming import StreamListener\n",
    "import socket\n",
    "import json"
   ]
  },
  {
   "cell_type": "code",
   "execution_count": 2,
   "metadata": {},
   "outputs": [],
   "source": [
    "consumer_key    = \"\"\n",
    "consumer_secret = \"\"\n",
    "access_token    = \"\"\n",
    "access_secret   = \"\""
   ]
  },
  {
   "cell_type": "code",
   "execution_count": 3,
   "metadata": {},
   "outputs": [],
   "source": [
    "class TweetsListener(StreamListener):\n",
    "\n",
    "    def __init__(self, csocket):\n",
    "        self.client_socket = csocket\n",
    "\n",
    "    def on_data(self, data):\n",
    "        try:\n",
    "            msg = json.loads( data )\n",
    "            print( msg['text'].encode('utf-8') )\n",
    "            self.client_socket.send( msg['text'].encode('utf-8') )\n",
    "            return True\n",
    "        except BaseException as e:\n",
    "            a=0\n",
    "        return True\n",
    "\n",
    "    def on_error(self, status):\n",
    "        return True"
   ]
  },
  {
   "cell_type": "code",
   "execution_count": 4,
   "metadata": {},
   "outputs": [],
   "source": [
    "def sendData(c_socket):\n",
    "    auth = OAuthHandler(consumer_key, consumer_secret)\n",
    "    auth.set_access_token(access_token, access_secret)\n",
    "    \n",
    "    twitter_stream = Stream(auth, TweetsListener(c_socket))\n",
    "    twitter_stream.sample()"
   ]
  },
  {
   "cell_type": "code",
   "execution_count": null,
   "metadata": {},
   "outputs": [],
   "source": [
    "if __name__ == \"__main__\":\n",
    "    s = socket.socket()        \n",
    "    host = \"localhost\"     \n",
    "    port = 5571                 \n",
    "    s.bind((host, port))        \n",
    "\n",
    "    print(\"Listening on port: %s\" % str(port))\n",
    "\n",
    "    s.listen(5)                 \n",
    "    c, addr = s.accept()       \n",
    "\n",
    "    print(\"Received request from: \" + str(addr))\n",
    "\n",
    "    sendData(c)"
   ]
  }
 ],
 "metadata": {
  "kernelspec": {
   "display_name": "Python 3",
   "language": "python",
   "name": "python3"
  },
  "language_info": {
   "codemirror_mode": {
    "name": "ipython",
    "version": 3
   },
   "file_extension": ".py",
   "mimetype": "text/x-python",
   "name": "python",
   "nbconvert_exporter": "python",
   "pygments_lexer": "ipython3",
   "version": "3.8.8"
  }
 },
 "nbformat": 4,
 "nbformat_minor": 4
}
