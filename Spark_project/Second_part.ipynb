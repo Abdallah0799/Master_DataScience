{
 "cells": [
  {
   "cell_type": "code",
   "execution_count": 21,
   "metadata": {},
   "outputs": [],
   "source": [
    "import findspark\n",
    "findspark.init()"
   ]
  },
  {
   "cell_type": "code",
   "execution_count": 22,
   "metadata": {},
   "outputs": [],
   "source": [
    "import datetime"
   ]
  },
  {
   "cell_type": "code",
   "execution_count": 23,
   "metadata": {},
   "outputs": [],
   "source": [
    "from pyspark import SparkContext\n",
    "from pyspark.streaming import StreamingContext\n",
    "from pyspark.sql import SQLContext"
   ]
  },
  {
   "cell_type": "code",
   "execution_count": 24,
   "metadata": {},
   "outputs": [],
   "source": [
    "sc = SparkContext()"
   ]
  },
  {
   "cell_type": "code",
   "execution_count": 25,
   "metadata": {},
   "outputs": [],
   "source": [
    "ssc = StreamingContext(sc, 1)\n",
    "sqlContext = SQLContext(sc)"
   ]
  },
  {
   "cell_type": "code",
   "execution_count": 26,
   "metadata": {},
   "outputs": [],
   "source": [
    "socket_stream = ssc.socketTextStream(\"localhost\", 5571)"
   ]
  },
  {
   "cell_type": "code",
   "execution_count": 27,
   "metadata": {},
   "outputs": [],
   "source": [
    "lines = socket_stream.window(600,600) #600 seconds because we want the last 10 minutes\n",
    "\n",
    "words = lines.flatMap(lambda text: text.split(\" \"))\n",
    "\n",
    "hashtags = words.filter(lambda word: word.lower().startswith(\"#\") and len(word) > 1)\n",
    "\n",
    "value_hashtags = hashtags.map(lambda word: (word.lower(), 1))\n",
    "\n",
    "reduced_hashtags = value_hashtags.reduceByKey(lambda a, b: a + b)\n",
    "\n",
    "most_popular_hashtags = reduced_hashtags.transform(lambda rdd: rdd.sortBy(lambda x: x[1],ascending=False))\n",
    "\n",
    "most_popular_hashtags.pprint(10)"
   ]
  },
  {
   "cell_type": "markdown",
   "metadata": {},
   "source": [
    "### Most popular hashtags"
   ]
  },
  {
   "cell_type": "code",
   "execution_count": 28,
   "metadata": {},
   "outputs": [
    {
     "name": "stdout",
     "output_type": "stream",
     "text": [
      "Start at :2021-12-30 01:27:43.940123\n"
     ]
    }
   ],
   "source": [
    "print(\"Start at :\" +str(datetime.datetime.now()))"
   ]
  },
  {
   "cell_type": "code",
   "execution_count": 29,
   "metadata": {},
   "outputs": [
    {
     "name": "stdout",
     "output_type": "stream",
     "text": [
      "-------------------------------------------\n",
      "Time: 2021-12-30 01:37:46\n",
      "-------------------------------------------\n",
      "('#happyvday', 134)\n",
      "('#홉필름', 118)\n",
      "('#happybirthdaytaehyung', 112)\n",
      "('#태형이와아미는_꽃길을걷고있어', 70)\n",
      "('#태태생일ㅊㅋ', 65)\n",
      "('#태형생일ᄎᄏ', 60)\n",
      "('#애기태형', 59)\n",
      "('#큰태형', 59)\n",
      "('#rm', 35)\n",
      "('#태형생일ㅊㅋ', 33)\n",
      "...\n",
      "\n"
     ]
    }
   ],
   "source": [
    "ssc.start()"
   ]
  },
  {
   "cell_type": "code",
   "execution_count": null,
   "metadata": {},
   "outputs": [],
   "source": [
    "ssc.stop()"
   ]
  },
  {
   "cell_type": "code",
   "execution_count": null,
   "metadata": {},
   "outputs": [],
   "source": [
    "sc.stop()"
   ]
  },
  {
   "cell_type": "markdown",
   "metadata": {},
   "source": [
    "Ce travail a été effectué le 30 decembre, jour d'anniversaire de l'artiste sud-coréen Kim Tae-hyung (mieux connu sous le nom de V). Ce qui explique les nombreux # le concernant"
   ]
  }
 ],
 "metadata": {
  "anaconda-cloud": {},
  "kernelspec": {
   "display_name": "Python 3",
   "language": "python",
   "name": "python3"
  },
  "language_info": {
   "codemirror_mode": {
    "name": "ipython",
    "version": 3
   },
   "file_extension": ".py",
   "mimetype": "text/x-python",
   "name": "python",
   "nbconvert_exporter": "python",
   "pygments_lexer": "ipython3",
   "version": "3.8.8"
  }
 },
 "nbformat": 4,
 "nbformat_minor": 4
}
